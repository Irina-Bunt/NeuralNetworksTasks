{
 "cells": [
  {
   "cell_type": "markdown",
   "metadata": {},
   "source": [
    "# Задание 2.1 - Нейронные сети\n",
    "\n",
    "В этом задании вы реализуете и натренируете настоящую нейроную сеть своими руками!\n",
    "\n",
    "В некотором смысле это будет расширением прошлого задания - нам нужно просто составить несколько линейных классификаторов вместе!\n",
    "\n",
    "<img src=\"https://i.redd.it/n9fgba8b0qr01.png\" alt=\"Stack_more_layers\" width=\"400px\"/>"
   ]
  },
  {
   "cell_type": "code",
   "execution_count": 45,
   "metadata": {},
   "outputs": [
    {
     "name": "stdout",
     "output_type": "stream",
     "text": [
      "The autoreload extension is already loaded. To reload it, use:\n",
      "  %reload_ext autoreload\n"
     ]
    }
   ],
   "source": [
    "import numpy as np\n",
    "import matplotlib.pyplot as plt\n",
    "\n",
    "%matplotlib inline\n",
    "\n",
    "%load_ext autoreload\n",
    "%autoreload 2"
   ]
  },
  {
   "cell_type": "code",
   "execution_count": 46,
   "metadata": {},
   "outputs": [],
   "source": [
    "from dataset import load_svhn, random_split_train_val\n",
    "from gradient_check import check_layer_gradient, check_layer_param_gradient, check_model_gradient\n",
    "from layers import FullyConnectedLayer, ReLULayer\n",
    "from model import TwoLayerNet\n",
    "from trainer import Trainer, Dataset\n",
    "from optim import SGD, MomentumSGD\n",
    "from metrics import multiclass_accuracy"
   ]
  },
  {
   "cell_type": "markdown",
   "metadata": {},
   "source": [
    "# Загружаем данные\n",
    "\n",
    "И разделяем их на training и validation."
   ]
  },
  {
   "cell_type": "code",
   "execution_count": 47,
   "metadata": {},
   "outputs": [],
   "source": [
    "def prepare_for_neural_network(train_X, test_X):\n",
    "    train_flat = train_X.reshape(train_X.shape[0], -1).astype(float) / 255.0\n",
    "    test_flat = test_X.reshape(test_X.shape[0], -1).astype(float) / 255.0\n",
    "    \n",
    "    # Subtract mean\n",
    "    mean_image = np.mean(train_flat, axis = 0)\n",
    "    train_flat -= mean_image\n",
    "    test_flat -= mean_image\n",
    "    \n",
    "    return train_flat, test_flat\n",
    "    \n",
    "train_X, train_y, test_X, test_y = load_svhn(\"data\", max_train=10000, max_test=1000)    \n",
    "train_X, test_X = prepare_for_neural_network(train_X, test_X)\n",
    "# Split train into train and val\n",
    "train_X, train_y, val_X, val_y = random_split_train_val(train_X, train_y, num_val = 1000)"
   ]
  },
  {
   "cell_type": "markdown",
   "metadata": {},
   "source": [
    "# Как всегда, начинаем с кирпичиков\n",
    "\n",
    "Мы будем реализовывать необходимые нам слои по очереди. Каждый слой должен реализовать:\n",
    "- прямой проход (forward pass), который генерирует выход слоя по входу и запоминает необходимые данные\n",
    "- обратный проход (backward pass), который получает градиент по выходу слоя и вычисляет градиент по входу и по параметрам\n",
    "\n",
    "Начнем с ReLU, у которого параметров нет."
   ]
  },
  {
   "cell_type": "code",
   "execution_count": 48,
   "metadata": {
    "scrolled": false
   },
   "outputs": [
    {
     "name": "stdout",
     "output_type": "stream",
     "text": [
      "Gradient check passed!\n"
     ]
    }
   ],
   "source": [
    "# TODO: Implement ReLULayer layer in layers.py\n",
    "# Note: you'll need to copy implementation of the gradient_check function from the previous assignment\n",
    "\n",
    "X = np.array([[1,-2,3],\n",
    "              [-1, 2, 0.1]\n",
    "              ])\n",
    "\n",
    "assert check_layer_gradient(ReLULayer(), X)"
   ]
  },
  {
   "cell_type": "markdown",
   "metadata": {},
   "source": [
    "А теперь реализуем полносвязный слой (fully connected layer), у которого будет два массива параметров: W (weights) и B (bias).\n",
    "\n",
    "Все параметры наши слои будут использовать для параметров специальный класс `Param`, в котором будут храниться значения параметров и градиенты этих параметров, вычисляемые во время обратного прохода.\n",
    "\n",
    "Это даст возможность аккумулировать (суммировать) градиенты из разных частей функции потерь, например, из cross-entropy loss и regularization loss."
   ]
  },
  {
   "cell_type": "code",
   "execution_count": 49,
   "metadata": {},
   "outputs": [
    {
     "name": "stdout",
     "output_type": "stream",
     "text": [
      "Gradient check passed!\n",
      "Gradient check passed!\n",
      "Gradient check passed!\n"
     ]
    }
   ],
   "source": [
    "# TODO: Implement FullyConnected layer forward and backward methods\n",
    "assert check_layer_gradient(FullyConnectedLayer(3, 4), X)\n",
    "# TODO: Implement storing gradients for W and B\n",
    "assert check_layer_param_gradient(FullyConnectedLayer(3, 4), X, 'W')\n",
    "assert check_layer_param_gradient(FullyConnectedLayer(3, 4), X, 'B')"
   ]
  },
  {
   "cell_type": "markdown",
   "metadata": {},
   "source": [
    "## Создаем нейронную сеть\n",
    "\n",
    "Теперь мы реализуем простейшую нейронную сеть с двумя полносвязным слоями и нелинейностью ReLU. Реализуйте функцию `compute_loss_and_gradients`, она должна запустить прямой и обратный проход через оба слоя для вычисления градиентов.\n",
    "\n",
    "Не забудьте реализовать очистку градиентов в начале функции."
   ]
  },
  {
   "cell_type": "code",
   "execution_count": 50,
   "metadata": {},
   "outputs": [
    {
     "name": "stdout",
     "output_type": "stream",
     "text": [
      "Checking gradient for layer_1_W\n",
      "Gradient check passed!\n",
      "Checking gradient for layer_1_B\n",
      "Gradient check passed!\n",
      "Checking gradient for layer_2_W\n",
      "Gradient check passed!\n",
      "Checking gradient for layer_2_B\n",
      "Gradient check passed!\n"
     ]
    },
    {
     "data": {
      "text/plain": [
       "True"
      ]
     },
     "execution_count": 50,
     "metadata": {},
     "output_type": "execute_result"
    }
   ],
   "source": [
    "# TODO: In model.py, implement compute_loss_and_gradients function\n",
    "model = TwoLayerNet(n_input = train_X.shape[1], n_output = 10, hidden_layer_size = 3, reg = 0)\n",
    "loss = model.compute_loss_and_gradients(train_X[:2], train_y[:2])\n",
    "\n",
    "# TODO Now implement backward pass and aggregate all of the params\n",
    "check_model_gradient(model, train_X[:2], train_y[:2])"
   ]
  },
  {
   "cell_type": "markdown",
   "metadata": {},
   "source": [
    "Теперь добавьте к модели регуляризацию - она должна прибавляться к loss и делать свой вклад в градиенты."
   ]
  },
  {
   "cell_type": "code",
   "execution_count": 51,
   "metadata": {},
   "outputs": [
    {
     "name": "stdout",
     "output_type": "stream",
     "text": [
      "Checking gradient for layer_1_W\n",
      "Gradient check passed!\n",
      "Checking gradient for layer_1_B\n",
      "Gradient check passed!\n",
      "Checking gradient for layer_2_W\n",
      "Gradient check passed!\n",
      "Checking gradient for layer_2_B\n",
      "Gradient check passed!\n"
     ]
    },
    {
     "data": {
      "text/plain": [
       "True"
      ]
     },
     "execution_count": 51,
     "metadata": {},
     "output_type": "execute_result"
    }
   ],
   "source": [
    "# TODO Now implement l2 regularization in the forward and backward pass\n",
    "model_with_reg = TwoLayerNet(n_input = train_X.shape[1], n_output = 10, hidden_layer_size = 3, reg = 1e1)\n",
    "loss_with_reg = model_with_reg.compute_loss_and_gradients(train_X[:2], train_y[:2])\n",
    "assert loss_with_reg > loss and not np.isclose(loss_with_reg, loss), \\\n",
    "    \"Loss with regularization (%2.4f) should be higher than without it (%2.4f)!\" % (loss, loss_with_reg)\n",
    "\n",
    "check_model_gradient(model_with_reg, train_X[:2], train_y[:2])"
   ]
  },
  {
   "cell_type": "markdown",
   "metadata": {},
   "source": [
    "Также реализуем функцию предсказания (вычисления значения) модели на новых данных.\n",
    "\n",
    "Какое значение точности мы ожидаем увидеть до начала тренировки?"
   ]
  },
  {
   "cell_type": "code",
   "execution_count": 52,
   "metadata": {},
   "outputs": [
    {
     "data": {
      "text/plain": [
       "0.1"
      ]
     },
     "execution_count": 52,
     "metadata": {},
     "output_type": "execute_result"
    }
   ],
   "source": [
    "# Finally, implement predict function!\n",
    "\n",
    "# TODO: Implement predict function\n",
    "# What would be the value we expect?\n",
    "multiclass_accuracy(model_with_reg.predict(train_X[:30]), train_y[:30]) "
   ]
  },
  {
   "cell_type": "markdown",
   "metadata": {},
   "source": [
    "# Допишем код для процесса тренировки\n",
    "\n",
    "Если все реализовано корректно, значение функции ошибки должно уменьшаться с каждой эпохой, пусть и медленно. Не беспокойтесь пока про validation accuracy."
   ]
  },
  {
   "cell_type": "code",
   "execution_count": 53,
   "metadata": {},
   "outputs": [
    {
     "name": "stdout",
     "output_type": "stream",
     "text": [
      "Loss: 2.302029, Train accuracy: 0.196667, val accuracy: 0.206000\n",
      "Loss: 2.301685, Train accuracy: 0.196667, val accuracy: 0.206000\n",
      "Loss: 2.301851, Train accuracy: 0.148222, val accuracy: 0.140000\n",
      "Loss: 2.302623, Train accuracy: 0.196667, val accuracy: 0.206000\n",
      "Loss: 2.302031, Train accuracy: 0.196667, val accuracy: 0.206000\n",
      "Loss: 2.301124, Train accuracy: 0.196667, val accuracy: 0.206000\n",
      "Loss: 2.302831, Train accuracy: 0.196667, val accuracy: 0.206000\n",
      "Loss: 2.301638, Train accuracy: 0.196667, val accuracy: 0.206000\n",
      "Loss: 2.302170, Train accuracy: 0.196667, val accuracy: 0.206000\n",
      "Loss: 2.302117, Train accuracy: 0.196667, val accuracy: 0.206000\n",
      "Loss: 2.302455, Train accuracy: 0.196667, val accuracy: 0.206000\n",
      "Loss: 2.302807, Train accuracy: 0.196667, val accuracy: 0.206000\n",
      "Loss: 2.302832, Train accuracy: 0.196667, val accuracy: 0.206000\n",
      "Loss: 2.302390, Train accuracy: 0.196667, val accuracy: 0.206000\n",
      "Loss: 2.303278, Train accuracy: 0.196667, val accuracy: 0.206000\n",
      "Loss: 2.301772, Train accuracy: 0.196667, val accuracy: 0.206000\n",
      "Loss: 2.302333, Train accuracy: 0.196667, val accuracy: 0.206000\n",
      "Loss: 2.302433, Train accuracy: 0.148222, val accuracy: 0.140000\n",
      "Loss: 2.301941, Train accuracy: 0.196667, val accuracy: 0.206000\n",
      "Loss: 2.302173, Train accuracy: 0.196667, val accuracy: 0.206000\n"
     ]
    }
   ],
   "source": [
    "model = TwoLayerNet(n_input = train_X.shape[1], n_output = 10, hidden_layer_size = 100, reg = 1e1)\n",
    "dataset = Dataset(train_X, train_y, val_X, val_y)\n",
    "trainer = Trainer(model, dataset, SGD(), learning_rate = 1e-2)\n",
    "\n",
    "# TODO Implement missing pieces in Trainer.fit function\n",
    "# You should expect loss to go down every epoch, even if it's slow\n",
    "loss_history, train_history, val_history = trainer.fit()"
   ]
  },
  {
   "cell_type": "code",
   "execution_count": 56,
   "metadata": {},
   "outputs": [
    {
     "data": {
      "text/plain": [
       "[<matplotlib.lines.Line2D at 0x1eeb03e0a60>]"
      ]
     },
     "execution_count": 56,
     "metadata": {},
     "output_type": "execute_result"
    },
    {
     "data": {
      "image/png": "[encoded data removed]",
      "text/plain": [
       "<Figure size 640x480 with 1 Axes>"
      ]
     },
     "metadata": {},
     "output_type": "display_data"
    }
   ],
   "source": [
    "plt.plot(train_history)\n",
    "plt.plot(val_history)"
   ]
  },
  {
   "cell_type": "markdown",
   "metadata": {},
   "source": [
    "# Улучшаем процесс тренировки\n",
    "\n",
    "Мы реализуем несколько ключевых оптимизаций, необходимых для тренировки современных нейросетей."
   ]
  },
  {
   "cell_type": "markdown",
   "metadata": {},
   "source": [
    "## Уменьшение скорости обучения (learning rate decay)\n",
    "\n",
    "Одна из необходимых оптимизаций во время тренировки нейронных сетей - постепенное уменьшение скорости обучения по мере тренировки.\n",
    "\n",
    "Один из стандартных методов - уменьшение скорости обучения (learning rate) каждые N эпох на коэффициент d (часто называемый decay). Значения N и d, как всегда, являются гиперпараметрами и должны подбираться на основе эффективности на проверочных данных (validation data). \n",
    "\n",
    "В нашем случае N будет равным 1."
   ]
  },
  {
   "cell_type": "code",
   "execution_count": 57,
   "metadata": {},
   "outputs": [
    {
     "name": "stdout",
     "output_type": "stream",
     "text": [
      "Loss: 2.275985, Train accuracy: 0.196667, val accuracy: 0.206000\n",
      "Loss: 2.347515, Train accuracy: 0.196667, val accuracy: 0.206000\n",
      "Loss: 2.264348, Train accuracy: 0.196667, val accuracy: 0.206000\n",
      "Loss: 2.287890, Train accuracy: 0.196667, val accuracy: 0.206000\n",
      "Loss: 2.253264, Train accuracy: 0.196667, val accuracy: 0.206000\n",
      "Loss: 2.265011, Train accuracy: 0.196667, val accuracy: 0.206000\n",
      "Loss: 2.212698, Train accuracy: 0.196667, val accuracy: 0.206000\n",
      "Loss: 2.320777, Train accuracy: 0.196667, val accuracy: 0.206000\n",
      "Loss: 2.302624, Train accuracy: 0.196667, val accuracy: 0.206000\n",
      "Loss: 2.311032, Train accuracy: 0.196667, val accuracy: 0.206000\n",
      "Loss: 2.234316, Train accuracy: 0.196667, val accuracy: 0.206000\n",
      "Loss: 2.283390, Train accuracy: 0.196667, val accuracy: 0.206000\n",
      "Loss: 2.353994, Train accuracy: 0.196667, val accuracy: 0.206000\n",
      "Loss: 2.217454, Train accuracy: 0.196667, val accuracy: 0.206000\n",
      "Loss: 2.378711, Train accuracy: 0.196667, val accuracy: 0.206000\n",
      "Loss: 2.256101, Train accuracy: 0.196667, val accuracy: 0.206000\n",
      "Loss: 2.309860, Train accuracy: 0.196667, val accuracy: 0.206000\n",
      "Loss: 2.264767, Train accuracy: 0.196667, val accuracy: 0.206000\n",
      "Loss: 2.276485, Train accuracy: 0.196667, val accuracy: 0.206000\n",
      "Loss: 2.274562, Train accuracy: 0.196667, val accuracy: 0.206000\n"
     ]
    }
   ],
   "source": [
    "# TODO Implement learning rate decay inside Trainer.fit method\n",
    "# Decay should happen once per epoch\n",
    "\n",
    "model = TwoLayerNet(n_input = train_X.shape[1], n_output = 10, hidden_layer_size = 100, reg = 1e-1)\n",
    "dataset = Dataset(train_X, train_y, val_X, val_y)\n",
    "trainer = Trainer(model, dataset, SGD(), learning_rate_decay=0.99)\n",
    "\n",
    "initial_learning_rate = trainer.learning_rate\n",
    "loss_history, train_history, val_history = trainer.fit()\n",
    "\n",
    "assert trainer.learning_rate < initial_learning_rate, \"Learning rate should've been reduced\"\n",
    "assert trainer.learning_rate > 0.5*initial_learning_rate, \"Learning rate shouldn'tve been reduced that much!\""
   ]
  },
  {
   "cell_type": "markdown",
   "metadata": {},
   "source": [
    "# Накопление импульса (Momentum SGD)\n",
    "\n",
    "Другой большой класс оптимизаций - использование более эффективных методов градиентного спуска. Мы реализуем один из них - накопление импульса (Momentum SGD).\n",
    "\n",
    "Этот метод хранит скорость движения, использует градиент для ее изменения на каждом шаге, и изменяет веса пропорционально значению скорости.\n",
    "(Физическая аналогия: Вместо скорости градиенты теперь будут задавать ускорение, но будет присутствовать сила трения.)\n",
    "\n",
    "```\n",
    "velocity = momentum * velocity - learning_rate * gradient \n",
    "w = w + velocity\n",
    "```\n",
    "\n",
    "`momentum` здесь коэффициент затухания, который тоже является гиперпараметром (к счастью, для него часто есть хорошее значение по умолчанию, типичный диапазон -- 0.8-0.99).\n",
    "\n",
    "Несколько полезных ссылок, где метод разбирается более подробно:  \n",
    "http://cs231n.github.io/neural-networks-3/#sgd  \n",
    "https://distill.pub/2017/momentum/"
   ]
  },
  {
   "cell_type": "code",
   "execution_count": 58,
   "metadata": {},
   "outputs": [
    {
     "name": "stdout",
     "output_type": "stream",
     "text": [
      "Loss: 2.322051, Train accuracy: 0.196667, val accuracy: 0.206000\n",
      "Loss: 2.308033, Train accuracy: 0.196667, val accuracy: 0.206000\n",
      "Loss: 2.317549, Train accuracy: 0.196667, val accuracy: 0.206000\n",
      "Loss: 2.262630, Train accuracy: 0.196667, val accuracy: 0.206000\n",
      "Loss: 2.270323, Train accuracy: 0.196667, val accuracy: 0.206000\n",
      "Loss: 2.308261, Train accuracy: 0.196667, val accuracy: 0.206000\n",
      "Loss: 2.264990, Train accuracy: 0.196667, val accuracy: 0.206000\n",
      "Loss: 2.278636, Train accuracy: 0.196667, val accuracy: 0.206000\n",
      "Loss: 2.267083, Train accuracy: 0.196667, val accuracy: 0.206000\n",
      "Loss: 2.279901, Train accuracy: 0.196667, val accuracy: 0.206000\n",
      "Loss: 2.276510, Train accuracy: 0.196667, val accuracy: 0.206000\n",
      "Loss: 2.314133, Train accuracy: 0.196667, val accuracy: 0.206000\n",
      "Loss: 2.256404, Train accuracy: 0.196667, val accuracy: 0.206000\n",
      "Loss: 2.295822, Train accuracy: 0.196667, val accuracy: 0.206000\n",
      "Loss: 2.290051, Train accuracy: 0.196667, val accuracy: 0.206000\n",
      "Loss: 2.278750, Train accuracy: 0.196667, val accuracy: 0.206000\n",
      "Loss: 2.280567, Train accuracy: 0.196667, val accuracy: 0.206000\n",
      "Loss: 2.255044, Train accuracy: 0.196667, val accuracy: 0.206000\n",
      "Loss: 2.240982, Train accuracy: 0.196667, val accuracy: 0.206000\n",
      "Loss: 2.315651, Train accuracy: 0.196667, val accuracy: 0.206000\n"
     ]
    }
   ],
   "source": [
    "# TODO: Implement MomentumSGD.update function in optim.py\n",
    "\n",
    "model = TwoLayerNet(n_input = train_X.shape[1], n_output = 10, hidden_layer_size = 100, reg = 1e-1)\n",
    "dataset = Dataset(train_X, train_y, val_X, val_y)\n",
    "trainer = Trainer(model, dataset, MomentumSGD(), learning_rate=1e-4, learning_rate_decay=0.99)\n",
    "\n",
    "# You should see even better results than before!\n",
    "loss_history, train_history, val_history = trainer.fit()"
   ]
  },
  {
   "cell_type": "markdown",
   "metadata": {},
   "source": [
    "# Ну что, давайте уже тренировать сеть!"
   ]
  },
  {
   "cell_type": "markdown",
   "metadata": {},
   "source": [
    "## Последний тест - переобучимся (overfit) на маленьком наборе данных\n",
    "\n",
    "Хороший способ проверить, все ли реализовано корректно - переобучить сеть на маленьком наборе данных.  \n",
    "Наша модель обладает достаточной мощностью, чтобы приблизить маленький набор данных идеально, поэтому мы ожидаем, что на нем мы быстро дойдем до 100% точности на тренировочном наборе. \n",
    "\n",
    "Если этого не происходит, то где-то была допущена ошибка!"
   ]
  },
  {
   "cell_type": "code",
   "execution_count": 59,
   "metadata": {},
   "outputs": [
    {
     "name": "stdout",
     "output_type": "stream",
     "text": [
      "Loss: 2.351801, Train accuracy: 0.200000, val accuracy: 0.133333\n",
      "Loss: 2.319693, Train accuracy: 0.200000, val accuracy: 0.133333\n",
      "Loss: 2.295926, Train accuracy: 0.200000, val accuracy: 0.133333\n",
      "Loss: 2.345443, Train accuracy: 0.200000, val accuracy: 0.133333\n",
      "Loss: 2.310013, Train accuracy: 0.200000, val accuracy: 0.133333\n",
      "Loss: 2.326544, Train accuracy: 0.200000, val accuracy: 0.133333\n",
      "Loss: 2.255641, Train accuracy: 0.200000, val accuracy: 0.133333\n",
      "Loss: 2.199259, Train accuracy: 0.200000, val accuracy: 0.066667\n",
      "Loss: 2.164561, Train accuracy: 0.333333, val accuracy: 0.066667\n",
      "Loss: 2.025661, Train accuracy: 0.400000, val accuracy: 0.000000\n",
      "Loss: 1.883798, Train accuracy: 0.400000, val accuracy: 0.000000\n",
      "Loss: 2.263931, Train accuracy: 0.400000, val accuracy: 0.000000\n",
      "Loss: 1.662918, Train accuracy: 0.333333, val accuracy: 0.000000\n",
      "Loss: 2.245522, Train accuracy: 0.333333, val accuracy: 0.000000\n",
      "Loss: 1.943906, Train accuracy: 0.400000, val accuracy: 0.000000\n",
      "Loss: 1.663953, Train accuracy: 0.333333, val accuracy: 0.000000\n",
      "Loss: 2.042200, Train accuracy: 0.400000, val accuracy: 0.000000\n",
      "Loss: 1.418303, Train accuracy: 0.400000, val accuracy: 0.000000\n",
      "Loss: 1.519709, Train accuracy: 0.400000, val accuracy: 0.000000\n",
      "Loss: 1.823944, Train accuracy: 0.466667, val accuracy: 0.000000\n",
      "Loss: 2.022291, Train accuracy: 0.400000, val accuracy: 0.000000\n",
      "Loss: 1.585656, Train accuracy: 0.400000, val accuracy: 0.000000\n",
      "Loss: 1.937038, Train accuracy: 0.400000, val accuracy: 0.066667\n",
      "Loss: 1.908215, Train accuracy: 0.466667, val accuracy: 0.000000\n",
      "Loss: 1.233499, Train accuracy: 0.466667, val accuracy: 0.000000\n",
      "Loss: 2.095108, Train accuracy: 0.466667, val accuracy: 0.000000\n",
      "Loss: 1.718242, Train accuracy: 0.466667, val accuracy: 0.066667\n",
      "Loss: 2.162756, Train accuracy: 0.466667, val accuracy: 0.066667\n",
      "Loss: 2.015933, Train accuracy: 0.466667, val accuracy: 0.000000\n",
      "Loss: 1.363952, Train accuracy: 0.466667, val accuracy: 0.000000\n",
      "Loss: 1.842670, Train accuracy: 0.533333, val accuracy: 0.000000\n",
      "Loss: 1.657567, Train accuracy: 0.533333, val accuracy: 0.066667\n",
      "Loss: 1.388463, Train accuracy: 0.533333, val accuracy: 0.066667\n",
      "Loss: 1.911120, Train accuracy: 0.533333, val accuracy: 0.066667\n",
      "Loss: 1.693765, Train accuracy: 0.600000, val accuracy: 0.000000\n",
      "Loss: 2.010436, Train accuracy: 0.600000, val accuracy: 0.066667\n",
      "Loss: 1.115900, Train accuracy: 0.600000, val accuracy: 0.066667\n",
      "Loss: 1.613706, Train accuracy: 0.600000, val accuracy: 0.066667\n",
      "Loss: 1.738574, Train accuracy: 0.600000, val accuracy: 0.066667\n",
      "Loss: 1.885192, Train accuracy: 0.600000, val accuracy: 0.066667\n",
      "Loss: 2.474042, Train accuracy: 0.666667, val accuracy: 0.066667\n",
      "Loss: 1.119274, Train accuracy: 0.666667, val accuracy: 0.066667\n",
      "Loss: 1.672047, Train accuracy: 0.666667, val accuracy: 0.066667\n",
      "Loss: 1.767860, Train accuracy: 0.666667, val accuracy: 0.066667\n",
      "Loss: 1.478802, Train accuracy: 0.666667, val accuracy: 0.066667\n",
      "Loss: 1.926619, Train accuracy: 0.733333, val accuracy: 0.066667\n",
      "Loss: 1.337383, Train accuracy: 0.733333, val accuracy: 0.066667\n",
      "Loss: 1.683186, Train accuracy: 0.733333, val accuracy: 0.066667\n",
      "Loss: 1.660081, Train accuracy: 0.800000, val accuracy: 0.066667\n",
      "Loss: 1.401881, Train accuracy: 0.733333, val accuracy: 0.133333\n",
      "Loss: 1.635264, Train accuracy: 0.733333, val accuracy: 0.000000\n",
      "Loss: 1.635617, Train accuracy: 0.733333, val accuracy: 0.066667\n",
      "Loss: 1.622938, Train accuracy: 0.733333, val accuracy: 0.066667\n",
      "Loss: 1.854111, Train accuracy: 0.733333, val accuracy: 0.066667\n",
      "Loss: 1.556636, Train accuracy: 0.733333, val accuracy: 0.066667\n",
      "Loss: 1.634732, Train accuracy: 0.733333, val accuracy: 0.066667\n",
      "Loss: 1.076198, Train accuracy: 0.666667, val accuracy: 0.000000\n",
      "Loss: 1.007559, Train accuracy: 0.733333, val accuracy: 0.066667\n",
      "Loss: 1.531114, Train accuracy: 0.733333, val accuracy: 0.066667\n",
      "Loss: 1.041336, Train accuracy: 0.733333, val accuracy: 0.066667\n",
      "Loss: 2.022564, Train accuracy: 0.733333, val accuracy: 0.066667\n",
      "Loss: 1.647379, Train accuracy: 0.733333, val accuracy: 0.066667\n",
      "Loss: 1.369538, Train accuracy: 0.733333, val accuracy: 0.066667\n",
      "Loss: 1.379903, Train accuracy: 0.733333, val accuracy: 0.066667\n",
      "Loss: 1.986917, Train accuracy: 0.733333, val accuracy: 0.066667\n",
      "Loss: 1.318972, Train accuracy: 0.733333, val accuracy: 0.066667\n",
      "Loss: 1.283966, Train accuracy: 0.733333, val accuracy: 0.000000\n",
      "Loss: 0.936269, Train accuracy: 0.733333, val accuracy: 0.066667\n",
      "Loss: 1.196061, Train accuracy: 0.733333, val accuracy: 0.066667\n",
      "Loss: 1.739352, Train accuracy: 0.733333, val accuracy: 0.066667\n",
      "Loss: 1.634901, Train accuracy: 0.733333, val accuracy: 0.066667\n",
      "Loss: 1.201189, Train accuracy: 0.733333, val accuracy: 0.000000\n",
      "Loss: 1.582981, Train accuracy: 0.733333, val accuracy: 0.066667\n",
      "Loss: 1.742143, Train accuracy: 0.733333, val accuracy: 0.066667\n",
      "Loss: 1.293135, Train accuracy: 0.733333, val accuracy: 0.066667\n",
      "Loss: 1.748190, Train accuracy: 0.800000, val accuracy: 0.066667\n",
      "Loss: 1.976545, Train accuracy: 0.800000, val accuracy: 0.000000\n",
      "Loss: 1.357876, Train accuracy: 0.800000, val accuracy: 0.066667\n",
      "Loss: 0.992895, Train accuracy: 0.800000, val accuracy: 0.066667\n",
      "Loss: 1.602046, Train accuracy: 0.800000, val accuracy: 0.066667\n",
      "Loss: 1.602167, Train accuracy: 0.866667, val accuracy: 0.066667\n",
      "Loss: 1.173057, Train accuracy: 0.866667, val accuracy: 0.066667\n",
      "Loss: 1.312798, Train accuracy: 0.866667, val accuracy: 0.000000\n",
      "Loss: 1.564551, Train accuracy: 0.866667, val accuracy: 0.000000\n",
      "Loss: 0.961713, Train accuracy: 0.866667, val accuracy: 0.066667\n",
      "Loss: 1.274091, Train accuracy: 0.866667, val accuracy: 0.066667\n",
      "Loss: 1.304703, Train accuracy: 0.933333, val accuracy: 0.066667\n",
      "Loss: 0.958926, Train accuracy: 0.933333, val accuracy: 0.066667\n",
      "Loss: 1.377168, Train accuracy: 0.866667, val accuracy: 0.066667\n",
      "Loss: 1.657193, Train accuracy: 0.933333, val accuracy: 0.066667\n",
      "Loss: 1.389767, Train accuracy: 0.933333, val accuracy: 0.066667\n",
      "Loss: 1.576803, Train accuracy: 0.933333, val accuracy: 0.066667\n",
      "Loss: 1.556738, Train accuracy: 0.933333, val accuracy: 0.066667\n",
      "Loss: 1.175409, Train accuracy: 0.933333, val accuracy: 0.000000\n",
      "Loss: 1.322616, Train accuracy: 0.933333, val accuracy: 0.066667\n",
      "Loss: 1.251510, Train accuracy: 0.933333, val accuracy: 0.066667\n",
      "Loss: 1.060407, Train accuracy: 0.933333, val accuracy: 0.066667\n",
      "Loss: 1.661861, Train accuracy: 0.933333, val accuracy: 0.066667\n",
      "Loss: 1.227308, Train accuracy: 0.933333, val accuracy: 0.066667\n",
      "Loss: 1.597969, Train accuracy: 0.933333, val accuracy: 0.066667\n",
      "Loss: 1.887250, Train accuracy: 0.933333, val accuracy: 0.066667\n",
      "Loss: 1.338688, Train accuracy: 0.933333, val accuracy: 0.066667\n",
      "Loss: 1.842966, Train accuracy: 0.933333, val accuracy: 0.066667\n",
      "Loss: 1.160604, Train accuracy: 0.933333, val accuracy: 0.066667\n",
      "Loss: 1.347215, Train accuracy: 0.933333, val accuracy: 0.066667\n",
      "Loss: 1.223119, Train accuracy: 0.933333, val accuracy: 0.066667\n",
      "Loss: 1.436648, Train accuracy: 0.933333, val accuracy: 0.000000\n",
      "Loss: 1.535320, Train accuracy: 0.933333, val accuracy: 0.066667\n",
      "Loss: 1.249121, Train accuracy: 0.933333, val accuracy: 0.066667\n",
      "Loss: 1.248964, Train accuracy: 0.933333, val accuracy: 0.000000\n",
      "Loss: 1.549803, Train accuracy: 1.000000, val accuracy: 0.066667\n",
      "Loss: 1.259687, Train accuracy: 0.933333, val accuracy: 0.000000\n",
      "Loss: 1.097239, Train accuracy: 1.000000, val accuracy: 0.000000\n",
      "Loss: 1.324286, Train accuracy: 0.933333, val accuracy: 0.000000\n",
      "Loss: 1.315431, Train accuracy: 0.933333, val accuracy: 0.000000\n",
      "Loss: 1.420746, Train accuracy: 1.000000, val accuracy: 0.000000\n",
      "Loss: 1.443017, Train accuracy: 0.933333, val accuracy: 0.000000\n",
      "Loss: 1.301618, Train accuracy: 1.000000, val accuracy: 0.000000\n",
      "Loss: 1.533658, Train accuracy: 1.000000, val accuracy: 0.000000\n",
      "Loss: 1.607993, Train accuracy: 1.000000, val accuracy: 0.000000\n",
      "Loss: 1.239065, Train accuracy: 0.933333, val accuracy: 0.000000\n",
      "Loss: 1.649177, Train accuracy: 1.000000, val accuracy: 0.000000\n",
      "Loss: 1.174445, Train accuracy: 1.000000, val accuracy: 0.000000\n",
      "Loss: 1.602848, Train accuracy: 1.000000, val accuracy: 0.000000\n",
      "Loss: 1.363682, Train accuracy: 1.000000, val accuracy: 0.000000\n",
      "Loss: 1.160640, Train accuracy: 1.000000, val accuracy: 0.000000\n",
      "Loss: 1.197888, Train accuracy: 1.000000, val accuracy: 0.000000\n",
      "Loss: 1.126413, Train accuracy: 1.000000, val accuracy: 0.000000\n",
      "Loss: 1.008120, Train accuracy: 1.000000, val accuracy: 0.000000\n"
     ]
    },
    {
     "name": "stdout",
     "output_type": "stream",
     "text": [
      "Loss: 1.643235, Train accuracy: 1.000000, val accuracy: 0.000000\n",
      "Loss: 1.592807, Train accuracy: 1.000000, val accuracy: 0.000000\n",
      "Loss: 1.412599, Train accuracy: 1.000000, val accuracy: 0.000000\n",
      "Loss: 1.212850, Train accuracy: 1.000000, val accuracy: 0.000000\n",
      "Loss: 1.196541, Train accuracy: 0.933333, val accuracy: 0.000000\n",
      "Loss: 1.280346, Train accuracy: 1.000000, val accuracy: 0.000000\n",
      "Loss: 1.403204, Train accuracy: 1.000000, val accuracy: 0.000000\n",
      "Loss: 1.229377, Train accuracy: 1.000000, val accuracy: 0.000000\n",
      "Loss: 1.400568, Train accuracy: 1.000000, val accuracy: 0.000000\n",
      "Loss: 1.391042, Train accuracy: 1.000000, val accuracy: 0.000000\n",
      "Loss: 1.102808, Train accuracy: 1.000000, val accuracy: 0.000000\n",
      "Loss: 1.445285, Train accuracy: 1.000000, val accuracy: 0.000000\n",
      "Loss: 1.406323, Train accuracy: 1.000000, val accuracy: 0.000000\n",
      "Loss: 1.219193, Train accuracy: 1.000000, val accuracy: 0.000000\n",
      "Loss: 1.449330, Train accuracy: 1.000000, val accuracy: 0.000000\n",
      "Loss: 1.304464, Train accuracy: 1.000000, val accuracy: 0.000000\n",
      "Loss: 1.494726, Train accuracy: 1.000000, val accuracy: 0.000000\n",
      "Loss: 1.327706, Train accuracy: 1.000000, val accuracy: 0.000000\n",
      "Loss: 1.361608, Train accuracy: 1.000000, val accuracy: 0.000000\n",
      "Loss: 1.460816, Train accuracy: 1.000000, val accuracy: 0.000000\n",
      "Loss: 1.424061, Train accuracy: 1.000000, val accuracy: 0.000000\n"
     ]
    }
   ],
   "source": [
    "data_size = 15\n",
    "model = TwoLayerNet(n_input = train_X.shape[1], n_output = 10, hidden_layer_size = 100, reg = 1e-1)\n",
    "dataset = Dataset(train_X[:data_size], train_y[:data_size], val_X[:data_size], val_y[:data_size])\n",
    "trainer = Trainer(model, dataset, SGD(), learning_rate=1e-1, num_epochs=150, batch_size=5)\n",
    "\n",
    "# You should expect this to reach 1.0 training accuracy \n",
    "loss_history, train_history, val_history = trainer.fit()"
   ]
  },
  {
   "cell_type": "markdown",
   "metadata": {},
   "source": [
    "Теперь найдем гипепараметры, для которых этот процесс сходится быстрее.\n",
    "Если все реализовано корректно, то существуют параметры, при которых процесс сходится в **20** эпох или еще быстрее.\n",
    "Найдите их!"
   ]
  },
  {
   "cell_type": "code",
   "execution_count": 60,
   "metadata": {},
   "outputs": [
    {
     "name": "stdout",
     "output_type": "stream",
     "text": [
      "Loss: 2.331042, Train accuracy: 0.200000, val accuracy: 0.133333\n",
      "Loss: 2.319385, Train accuracy: 0.200000, val accuracy: 0.133333\n",
      "Loss: 2.283704, Train accuracy: 0.200000, val accuracy: 0.133333\n",
      "Loss: 2.309925, Train accuracy: 0.266667, val accuracy: 0.000000\n",
      "Loss: 2.285989, Train accuracy: 0.266667, val accuracy: 0.000000\n",
      "Loss: 2.352220, Train accuracy: 0.266667, val accuracy: 0.000000\n",
      "Loss: 2.261306, Train accuracy: 0.266667, val accuracy: 0.000000\n",
      "Loss: 2.287292, Train accuracy: 0.400000, val accuracy: 0.000000\n",
      "Loss: 2.315104, Train accuracy: 0.400000, val accuracy: 0.000000\n",
      "Loss: 2.268513, Train accuracy: 0.400000, val accuracy: 0.000000\n",
      "Loss: 2.242892, Train accuracy: 0.400000, val accuracy: 0.000000\n",
      "Loss: 2.047102, Train accuracy: 0.400000, val accuracy: 0.000000\n",
      "Loss: 1.901234, Train accuracy: 0.333333, val accuracy: 0.000000\n",
      "Loss: 1.948076, Train accuracy: 0.333333, val accuracy: 0.000000\n",
      "Loss: 1.740618, Train accuracy: 0.333333, val accuracy: 0.000000\n",
      "Loss: 1.914006, Train accuracy: 0.333333, val accuracy: 0.000000\n",
      "Loss: 1.841368, Train accuracy: 0.400000, val accuracy: 0.000000\n",
      "Loss: 1.927281, Train accuracy: 0.400000, val accuracy: 0.000000\n",
      "Loss: 2.294955, Train accuracy: 0.400000, val accuracy: 0.000000\n",
      "Loss: 1.815748, Train accuracy: 0.400000, val accuracy: 0.000000\n"
     ]
    }
   ],
   "source": [
    "# Now, tweak some hyper parameters and make it train to 1.0 accuracy in 20 epochs or less\n",
    "\n",
    "model = TwoLayerNet(n_input = train_X.shape[1], n_output = 10, hidden_layer_size = 100, reg = 1e-1)\n",
    "dataset = Dataset(train_X[:data_size], train_y[:data_size], val_X[:data_size], val_y[:data_size])\n",
    "# TODO: Change any hyperparamers or optimizators to reach training accuracy in 20 epochs\n",
    "trainer = Trainer(model, dataset, SGD(), learning_rate=1e-1, num_epochs=20, batch_size=5)\n",
    "\n",
    "loss_history, train_history, val_history = trainer.fit()"
   ]
  },
  {
   "cell_type": "markdown",
   "metadata": {},
   "source": [
    "# Итак, основное мероприятие!\n",
    "\n",
    "Натренируйте лучшую нейросеть! Можно добавлять и изменять параметры, менять количество нейронов в слоях сети и как угодно экспериментировать. \n",
    "\n",
    "Добейтесь точности лучше **60%** на validation set."
   ]
  },
  {
   "cell_type": "code",
   "execution_count": 62,
   "metadata": {
    "scrolled": true
   },
   "outputs": [
    {
     "name": "stdout",
     "output_type": "stream",
     "text": [
      "Loss: 2.284684, Train accuracy: 0.196667, val accuracy: 0.206000\n",
      "Loss: 2.241700, Train accuracy: 0.196667, val accuracy: 0.206000\n",
      "Loss: 2.153657, Train accuracy: 0.196667, val accuracy: 0.206000\n",
      "Loss: 2.172289, Train accuracy: 0.263556, val accuracy: 0.259000\n",
      "Loss: 1.970759, Train accuracy: 0.306000, val accuracy: 0.313000\n",
      "Loss: 1.864746, Train accuracy: 0.388333, val accuracy: 0.389000\n",
      "Loss: 1.685775, Train accuracy: 0.463222, val accuracy: 0.450000\n",
      "Loss: 1.345466, Train accuracy: 0.528889, val accuracy: 0.512000\n",
      "Loss: 1.516645, Train accuracy: 0.569444, val accuracy: 0.546000\n",
      "Loss: 1.325247, Train accuracy: 0.608222, val accuracy: 0.615000\n",
      "Loss: 1.177275, Train accuracy: 0.637111, val accuracy: 0.619000\n",
      "Loss: 1.071589, Train accuracy: 0.657000, val accuracy: 0.643000\n",
      "Loss: 1.333676, Train accuracy: 0.674222, val accuracy: 0.663000\n",
      "Loss: 0.930161, Train accuracy: 0.673889, val accuracy: 0.654000\n",
      "Loss: 1.246604, Train accuracy: 0.703444, val accuracy: 0.679000\n",
      "Loss: 1.097358, Train accuracy: 0.721556, val accuracy: 0.696000\n",
      "Loss: 1.219368, Train accuracy: 0.732111, val accuracy: 0.697000\n",
      "Loss: 0.961354, Train accuracy: 0.726111, val accuracy: 0.683000\n",
      "Loss: 1.006757, Train accuracy: 0.749333, val accuracy: 0.689000\n",
      "Loss: 1.116864, Train accuracy: 0.754556, val accuracy: 0.712000\n",
      "Loss: 1.077074, Train accuracy: 0.762333, val accuracy: 0.720000\n",
      "Loss: 0.934420, Train accuracy: 0.757778, val accuracy: 0.695000\n",
      "Loss: 0.917721, Train accuracy: 0.753889, val accuracy: 0.709000\n",
      "Loss: 0.866836, Train accuracy: 0.781111, val accuracy: 0.733000\n",
      "Loss: 1.194277, Train accuracy: 0.782556, val accuracy: 0.720000\n",
      "Loss: 0.809635, Train accuracy: 0.793778, val accuracy: 0.731000\n",
      "Loss: 0.878761, Train accuracy: 0.805889, val accuracy: 0.731000\n",
      "Loss: 0.935423, Train accuracy: 0.803667, val accuracy: 0.722000\n",
      "Loss: 0.899409, Train accuracy: 0.809000, val accuracy: 0.736000\n",
      "Loss: 0.939079, Train accuracy: 0.802889, val accuracy: 0.728000\n",
      "Loss: 1.367297, Train accuracy: 0.819889, val accuracy: 0.736000\n",
      "Loss: 0.841625, Train accuracy: 0.822222, val accuracy: 0.728000\n",
      "Loss: 0.952455, Train accuracy: 0.820000, val accuracy: 0.740000\n",
      "Loss: 0.842394, Train accuracy: 0.824778, val accuracy: 0.736000\n",
      "Loss: 0.729530, Train accuracy: 0.819111, val accuracy: 0.724000\n",
      "Loss: 0.841981, Train accuracy: 0.823333, val accuracy: 0.723000\n",
      "Loss: 0.837183, Train accuracy: 0.831444, val accuracy: 0.735000\n",
      "Loss: 0.683245, Train accuracy: 0.839222, val accuracy: 0.742000\n",
      "Loss: 0.664073, Train accuracy: 0.842222, val accuracy: 0.752000\n",
      "Loss: 0.882217, Train accuracy: 0.845889, val accuracy: 0.744000\n",
      "Loss: 0.712210, Train accuracy: 0.845667, val accuracy: 0.741000\n",
      "Loss: 0.795908, Train accuracy: 0.841000, val accuracy: 0.728000\n",
      "Loss: 0.822634, Train accuracy: 0.852222, val accuracy: 0.734000\n",
      "Loss: 0.911432, Train accuracy: 0.853333, val accuracy: 0.746000\n",
      "Loss: 0.714750, Train accuracy: 0.859444, val accuracy: 0.751000\n",
      "Loss: 0.744419, Train accuracy: 0.859667, val accuracy: 0.753000\n",
      "Loss: 1.008064, Train accuracy: 0.862444, val accuracy: 0.752000\n",
      "Loss: 0.657081, Train accuracy: 0.863333, val accuracy: 0.747000\n",
      "Loss: 0.658061, Train accuracy: 0.869667, val accuracy: 0.754000\n",
      "Loss: 0.949361, Train accuracy: 0.872889, val accuracy: 0.754000\n",
      "Loss: 0.723930, Train accuracy: 0.863111, val accuracy: 0.746000\n",
      "Loss: 0.960281, Train accuracy: 0.868556, val accuracy: 0.756000\n",
      "Loss: 0.885074, Train accuracy: 0.873000, val accuracy: 0.743000\n",
      "Loss: 0.833145, Train accuracy: 0.863222, val accuracy: 0.744000\n",
      "Loss: 0.825407, Train accuracy: 0.876111, val accuracy: 0.752000\n",
      "Loss: 0.962596, Train accuracy: 0.875556, val accuracy: 0.752000\n",
      "Loss: 0.673913, Train accuracy: 0.869556, val accuracy: 0.743000\n",
      "Loss: 0.889033, Train accuracy: 0.886000, val accuracy: 0.750000\n",
      "Loss: 0.751957, Train accuracy: 0.883000, val accuracy: 0.745000\n",
      "Loss: 0.776093, Train accuracy: 0.892444, val accuracy: 0.764000\n",
      "Loss: 0.704045, Train accuracy: 0.890889, val accuracy: 0.749000\n",
      "Loss: 0.704832, Train accuracy: 0.886667, val accuracy: 0.753000\n",
      "Loss: 0.996074, Train accuracy: 0.888111, val accuracy: 0.746000\n",
      "Loss: 0.691831, Train accuracy: 0.894444, val accuracy: 0.759000\n",
      "Loss: 0.699235, Train accuracy: 0.887556, val accuracy: 0.754000\n",
      "Loss: 0.683892, Train accuracy: 0.901778, val accuracy: 0.765000\n",
      "Loss: 0.800747, Train accuracy: 0.896778, val accuracy: 0.770000\n",
      "Loss: 0.642393, Train accuracy: 0.895333, val accuracy: 0.753000\n",
      "Loss: 0.702021, Train accuracy: 0.887889, val accuracy: 0.747000\n",
      "Loss: 0.930036, Train accuracy: 0.898889, val accuracy: 0.767000\n",
      "Loss: 0.782360, Train accuracy: 0.903000, val accuracy: 0.756000\n",
      "Loss: 0.727544, Train accuracy: 0.903222, val accuracy: 0.761000\n",
      "Loss: 0.793839, Train accuracy: 0.882111, val accuracy: 0.743000\n",
      "Loss: 0.719805, Train accuracy: 0.891667, val accuracy: 0.750000\n",
      "Loss: 0.879746, Train accuracy: 0.897778, val accuracy: 0.751000\n",
      "Loss: 0.747226, Train accuracy: 0.900778, val accuracy: 0.760000\n",
      "Loss: 0.748758, Train accuracy: 0.903111, val accuracy: 0.759000\n",
      "Loss: 0.680226, Train accuracy: 0.900778, val accuracy: 0.763000\n",
      "Loss: 0.707127, Train accuracy: 0.906444, val accuracy: 0.766000\n",
      "Loss: 0.695260, Train accuracy: 0.909556, val accuracy: 0.749000\n",
      "Loss: 0.768372, Train accuracy: 0.912889, val accuracy: 0.766000\n",
      "Loss: 0.605607, Train accuracy: 0.902444, val accuracy: 0.759000\n",
      "Loss: 0.784194, Train accuracy: 0.910111, val accuracy: 0.762000\n",
      "Loss: 0.711647, Train accuracy: 0.908556, val accuracy: 0.757000\n",
      "Loss: 0.562018, Train accuracy: 0.913778, val accuracy: 0.766000\n",
      "Loss: 0.721614, Train accuracy: 0.914444, val accuracy: 0.763000\n",
      "Loss: 0.534334, Train accuracy: 0.900000, val accuracy: 0.762000\n",
      "Loss: 0.734643, Train accuracy: 0.911778, val accuracy: 0.763000\n",
      "Loss: 0.757345, Train accuracy: 0.920222, val accuracy: 0.763000\n",
      "Loss: 0.755365, Train accuracy: 0.911667, val accuracy: 0.771000\n",
      "Loss: 0.570169, Train accuracy: 0.905000, val accuracy: 0.765000\n",
      "Loss: 0.596194, Train accuracy: 0.913667, val accuracy: 0.770000\n",
      "Loss: 0.744157, Train accuracy: 0.912889, val accuracy: 0.768000\n",
      "Loss: 0.747966, Train accuracy: 0.911444, val accuracy: 0.768000\n",
      "Loss: 0.770217, Train accuracy: 0.913556, val accuracy: 0.775000\n",
      "Loss: 0.730498, Train accuracy: 0.915222, val accuracy: 0.762000\n",
      "Loss: 0.707180, Train accuracy: 0.915111, val accuracy: 0.753000\n",
      "Loss: 0.669769, Train accuracy: 0.921333, val accuracy: 0.771000\n",
      "Loss: 0.727492, Train accuracy: 0.913333, val accuracy: 0.760000\n",
      "Loss: 0.744736, Train accuracy: 0.920000, val accuracy: 0.763000\n",
      "Loss: 0.869287, Train accuracy: 0.926889, val accuracy: 0.766000\n",
      "Loss: 0.668788, Train accuracy: 0.916556, val accuracy: 0.765000\n",
      "Loss: 0.757892, Train accuracy: 0.913556, val accuracy: 0.763000\n",
      "Loss: 0.648922, Train accuracy: 0.929667, val accuracy: 0.773000\n",
      "Loss: 0.685788, Train accuracy: 0.910333, val accuracy: 0.771000\n",
      "Loss: 0.799777, Train accuracy: 0.921778, val accuracy: 0.771000\n",
      "Loss: 0.779454, Train accuracy: 0.918333, val accuracy: 0.776000\n",
      "Loss: 0.718329, Train accuracy: 0.929333, val accuracy: 0.764000\n",
      "Loss: 0.641691, Train accuracy: 0.932778, val accuracy: 0.782000\n",
      "Loss: 0.615310, Train accuracy: 0.928889, val accuracy: 0.770000\n",
      "Loss: 0.707633, Train accuracy: 0.933000, val accuracy: 0.766000\n",
      "Loss: 0.760220, Train accuracy: 0.926000, val accuracy: 0.762000\n",
      "Loss: 0.682519, Train accuracy: 0.921556, val accuracy: 0.769000\n",
      "Loss: 0.688083, Train accuracy: 0.927778, val accuracy: 0.778000\n",
      "Loss: 0.795338, Train accuracy: 0.926333, val accuracy: 0.768000\n",
      "Loss: 0.827707, Train accuracy: 0.925111, val accuracy: 0.771000\n",
      "Loss: 0.768107, Train accuracy: 0.928000, val accuracy: 0.779000\n",
      "Loss: 0.657532, Train accuracy: 0.922556, val accuracy: 0.766000\n",
      "Loss: 0.676002, Train accuracy: 0.926444, val accuracy: 0.772000\n",
      "Loss: 0.948395, Train accuracy: 0.930889, val accuracy: 0.767000\n",
      "Loss: 0.631454, Train accuracy: 0.925889, val accuracy: 0.776000\n",
      "Loss: 0.865640, Train accuracy: 0.915889, val accuracy: 0.765000\n",
      "Loss: 0.701186, Train accuracy: 0.925333, val accuracy: 0.766000\n",
      "Loss: 0.770845, Train accuracy: 0.915333, val accuracy: 0.757000\n",
      "Loss: 0.715559, Train accuracy: 0.928556, val accuracy: 0.768000\n",
      "Loss: 0.825841, Train accuracy: 0.935556, val accuracy: 0.773000\n",
      "Loss: 0.627766, Train accuracy: 0.919778, val accuracy: 0.766000\n"
     ]
    },
    {
     "name": "stdout",
     "output_type": "stream",
     "text": [
      "Loss: 0.658889, Train accuracy: 0.937222, val accuracy: 0.784000\n",
      "Loss: 0.833192, Train accuracy: 0.932778, val accuracy: 0.776000\n",
      "Loss: 0.720789, Train accuracy: 0.925111, val accuracy: 0.770000\n",
      "Loss: 0.564828, Train accuracy: 0.923667, val accuracy: 0.763000\n",
      "Loss: 0.735692, Train accuracy: 0.929333, val accuracy: 0.775000\n",
      "Loss: 0.677149, Train accuracy: 0.929889, val accuracy: 0.774000\n",
      "Loss: 0.739546, Train accuracy: 0.944667, val accuracy: 0.785000\n",
      "Loss: 0.751304, Train accuracy: 0.927667, val accuracy: 0.773000\n",
      "Loss: 0.728330, Train accuracy: 0.939778, val accuracy: 0.778000\n",
      "Loss: 0.746499, Train accuracy: 0.938667, val accuracy: 0.784000\n",
      "Loss: 0.744821, Train accuracy: 0.930333, val accuracy: 0.767000\n",
      "Loss: 0.624628, Train accuracy: 0.937667, val accuracy: 0.776000\n",
      "Loss: 0.724033, Train accuracy: 0.933667, val accuracy: 0.768000\n",
      "Loss: 0.623370, Train accuracy: 0.929222, val accuracy: 0.772000\n",
      "Loss: 0.996243, Train accuracy: 0.935556, val accuracy: 0.774000\n",
      "Loss: 0.759978, Train accuracy: 0.932000, val accuracy: 0.778000\n",
      "Loss: 0.669105, Train accuracy: 0.934000, val accuracy: 0.781000\n",
      "Loss: 0.601251, Train accuracy: 0.941778, val accuracy: 0.780000\n",
      "Loss: 0.685750, Train accuracy: 0.926222, val accuracy: 0.774000\n",
      "Loss: 0.730746, Train accuracy: 0.917778, val accuracy: 0.767000\n",
      "Loss: 0.699735, Train accuracy: 0.938111, val accuracy: 0.779000\n",
      "Loss: 0.631461, Train accuracy: 0.937333, val accuracy: 0.771000\n",
      "Loss: 0.722315, Train accuracy: 0.915667, val accuracy: 0.760000\n",
      "Loss: 0.728517, Train accuracy: 0.940000, val accuracy: 0.778000\n",
      "Loss: 0.914478, Train accuracy: 0.926333, val accuracy: 0.771000\n",
      "Loss: 0.776364, Train accuracy: 0.935556, val accuracy: 0.777000\n",
      "Loss: 0.661175, Train accuracy: 0.937333, val accuracy: 0.778000\n",
      "Loss: 0.634932, Train accuracy: 0.934333, val accuracy: 0.779000\n",
      "Loss: 0.472098, Train accuracy: 0.936556, val accuracy: 0.770000\n",
      "Loss: 0.852711, Train accuracy: 0.937889, val accuracy: 0.771000\n",
      "Loss: 0.822726, Train accuracy: 0.926222, val accuracy: 0.772000\n",
      "Loss: 0.693118, Train accuracy: 0.940556, val accuracy: 0.771000\n",
      "Loss: 0.925240, Train accuracy: 0.938333, val accuracy: 0.774000\n",
      "Loss: 0.794813, Train accuracy: 0.938111, val accuracy: 0.774000\n",
      "Loss: 0.814190, Train accuracy: 0.937222, val accuracy: 0.767000\n",
      "Loss: 0.654868, Train accuracy: 0.942444, val accuracy: 0.770000\n",
      "Loss: 0.749718, Train accuracy: 0.947333, val accuracy: 0.784000\n",
      "Loss: 0.897251, Train accuracy: 0.933111, val accuracy: 0.766000\n",
      "Loss: 0.773038, Train accuracy: 0.943333, val accuracy: 0.772000\n",
      "Loss: 0.603154, Train accuracy: 0.930111, val accuracy: 0.772000\n",
      "Loss: 0.657561, Train accuracy: 0.930333, val accuracy: 0.771000\n",
      "Loss: 0.598842, Train accuracy: 0.937111, val accuracy: 0.780000\n",
      "Loss: 0.695838, Train accuracy: 0.928778, val accuracy: 0.775000\n",
      "Loss: 0.587959, Train accuracy: 0.943222, val accuracy: 0.781000\n",
      "Loss: 0.662272, Train accuracy: 0.936444, val accuracy: 0.776000\n",
      "Loss: 0.645612, Train accuracy: 0.943111, val accuracy: 0.776000\n",
      "Loss: 0.719031, Train accuracy: 0.935778, val accuracy: 0.778000\n",
      "Loss: 0.622374, Train accuracy: 0.938667, val accuracy: 0.774000\n",
      "Loss: 0.720062, Train accuracy: 0.941222, val accuracy: 0.782000\n",
      "Loss: 0.594923, Train accuracy: 0.943444, val accuracy: 0.778000\n",
      "Loss: 0.823080, Train accuracy: 0.925667, val accuracy: 0.755000\n",
      "Loss: 0.668497, Train accuracy: 0.947222, val accuracy: 0.780000\n",
      "Loss: 0.772269, Train accuracy: 0.935889, val accuracy: 0.778000\n",
      "Loss: 0.655016, Train accuracy: 0.946222, val accuracy: 0.777000\n",
      "Loss: 0.754461, Train accuracy: 0.941667, val accuracy: 0.778000\n",
      "Loss: 0.768213, Train accuracy: 0.939778, val accuracy: 0.781000\n",
      "Loss: 0.675256, Train accuracy: 0.944000, val accuracy: 0.775000\n",
      "Loss: 0.749174, Train accuracy: 0.940556, val accuracy: 0.768000\n",
      "Loss: 0.606784, Train accuracy: 0.938222, val accuracy: 0.773000\n",
      "Loss: 0.857758, Train accuracy: 0.943333, val accuracy: 0.774000\n",
      "Loss: 0.782221, Train accuracy: 0.943222, val accuracy: 0.772000\n",
      "Loss: 0.599168, Train accuracy: 0.943333, val accuracy: 0.774000\n",
      "Loss: 0.745859, Train accuracy: 0.942889, val accuracy: 0.778000\n",
      "Loss: 0.665938, Train accuracy: 0.946333, val accuracy: 0.772000\n",
      "Loss: 0.934475, Train accuracy: 0.938333, val accuracy: 0.781000\n",
      "Loss: 0.640662, Train accuracy: 0.944000, val accuracy: 0.769000\n",
      "Loss: 0.778233, Train accuracy: 0.938667, val accuracy: 0.768000\n",
      "Loss: 0.641703, Train accuracy: 0.937778, val accuracy: 0.773000\n",
      "Loss: 0.520287, Train accuracy: 0.938889, val accuracy: 0.775000\n",
      "Loss: 0.684944, Train accuracy: 0.934000, val accuracy: 0.780000\n",
      "Loss: 0.701293, Train accuracy: 0.946222, val accuracy: 0.781000\n",
      "Loss: 0.703589, Train accuracy: 0.923111, val accuracy: 0.766000\n",
      "Loss: 0.703841, Train accuracy: 0.934778, val accuracy: 0.775000\n",
      "best validation accuracy achieved: 0.785000\n"
     ]
    }
   ],
   "source": [
    "# Let's train the best one-hidden-layer network we can\n",
    "\n",
    "learning_rates = 1e-2\n",
    "reg_strength = 1e-3\n",
    "learning_rate_decay = 0.999\n",
    "hidden_layer_size = 128\n",
    "num_epochs = 200\n",
    "batch_size = 64\n",
    "\n",
    "dataset = Dataset(train_X, train_y, val_X, val_y)\n",
    "\n",
    "model = TwoLayerNet(n_input=train_X.shape[1], n_output=10,\n",
    "                    hidden_layer_size=hidden_layer_size,\n",
    "                    reg=reg_strength)\n",
    "\n",
    "trainer = Trainer(model, dataset, MomentumSGD(),\n",
    "                  num_epochs=num_epochs,\n",
    "                  batch_size=batch_size,\n",
    "                  learning_rate=learning_rates,\n",
    "                  learning_rate_decay=learning_rate_decay)\n",
    "\n",
    "loss_history, train_history, val_history = trainer.fit()\n",
    "best_val_accuracy = max(val_history)\n",
    "print('best validation accuracy achieved: %f' % best_val_accuracy)"
   ]
  },
  {
   "cell_type": "code",
   "execution_count": 63,
   "metadata": {},
   "outputs": [
    {
     "data": {
      "text/plain": [
       "[<matplotlib.lines.Line2D at 0x1eeb04df760>]"
      ]
     },
     "execution_count": 63,
     "metadata": {},
     "output_type": "execute_result"
    },
    {
     "data": {
      "image/png": "[encoded data removed]",
      "text/plain": [
       "<Figure size 1500x700 with 2 Axes>"
      ]
     },
     "metadata": {},
     "output_type": "display_data"
    }
   ],
   "source": [
    "plt.figure(figsize=(15, 7))\n",
    "plt.subplot(211)\n",
    "plt.title(\"Loss\")\n",
    "plt.plot(loss_history)\n",
    "plt.subplot(212)\n",
    "plt.title(\"Train/validation accuracy\")\n",
    "plt.plot(train_history)\n",
    "plt.plot(val_history)"
   ]
  },
  {
   "cell_type": "markdown",
   "metadata": {},
   "source": [
    "# Как обычно, посмотрим, как наша лучшая модель работает на тестовых данных"
   ]
  },
  {
   "cell_type": "code",
   "execution_count": 66,
   "metadata": {},
   "outputs": [
    {
     "name": "stdout",
     "output_type": "stream",
     "text": [
      "Neural net test set accuracy: 0.750000\n"
     ]
    }
   ],
   "source": [
    "test_pred = model.predict(test_X)\n",
    "test_accuracy = multiclass_accuracy(test_pred, test_y)\n",
    "print('Neural net test set accuracy: %f' % (test_accuracy,))\n"
   ]
  }
 ],
 "metadata": {
  "kernelspec": {
   "display_name": "Python 3 (ipykernel)",
   "language": "python",
   "name": "python3"
  },
  "language_info": {
   "codemirror_mode": {
    "name": "ipython",
    "version": 3
   },
   "file_extension": ".py",
   "mimetype": "text/x-python",
   "name": "python",
   "nbconvert_exporter": "python",
   "pygments_lexer": "ipython3",
   "version": "3.9.13"
  }
 },
 "nbformat": 4,
 "nbformat_minor": 2
}
